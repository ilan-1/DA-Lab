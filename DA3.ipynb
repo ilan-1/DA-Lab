{
 "cells": [
  {
   "cell_type": "markdown",
   "id": "076b33d1-7787-4228-98ac-90562d68364c",
   "metadata": {},
   "source": [
    "### Data import"
   ]
  },
  {
   "cell_type": "code",
   "execution_count": 3,
   "id": "0bec34ba-ca12-4e5e-8586-c709984ec107",
   "metadata": {},
   "outputs": [
    {
     "data": {
      "text/html": [
       "<div>\n",
       "<style scoped>\n",
       "    .dataframe tbody tr th:only-of-type {\n",
       "        vertical-align: middle;\n",
       "    }\n",
       "\n",
       "    .dataframe tbody tr th {\n",
       "        vertical-align: top;\n",
       "    }\n",
       "\n",
       "    .dataframe thead th {\n",
       "        text-align: right;\n",
       "    }\n",
       "</style>\n",
       "<table border=\"1\" class=\"dataframe\">\n",
       "  <thead>\n",
       "    <tr style=\"text-align: right;\">\n",
       "      <th></th>\n",
       "      <th>age</th>\n",
       "      <th>workclass</th>\n",
       "      <th>final_weight</th>\n",
       "      <th>edu</th>\n",
       "      <th>edu_num</th>\n",
       "      <th>marital</th>\n",
       "      <th>occupation</th>\n",
       "      <th>relationship</th>\n",
       "      <th>race</th>\n",
       "      <th>sex</th>\n",
       "      <th>capital_gain</th>\n",
       "      <th>capital_loss</th>\n",
       "      <th>hours_perweek</th>\n",
       "      <th>country</th>\n",
       "      <th>salary</th>\n",
       "    </tr>\n",
       "  </thead>\n",
       "  <tbody>\n",
       "    <tr>\n",
       "      <th>0</th>\n",
       "      <td>39</td>\n",
       "      <td>State-gov</td>\n",
       "      <td>77516</td>\n",
       "      <td>Bachelors</td>\n",
       "      <td>13</td>\n",
       "      <td>Never-married</td>\n",
       "      <td>Adm-clerical</td>\n",
       "      <td>Not-in-family</td>\n",
       "      <td>White</td>\n",
       "      <td>Male</td>\n",
       "      <td>2174</td>\n",
       "      <td>0</td>\n",
       "      <td>40</td>\n",
       "      <td>United-States</td>\n",
       "      <td>&lt;=50K</td>\n",
       "    </tr>\n",
       "    <tr>\n",
       "      <th>1</th>\n",
       "      <td>50</td>\n",
       "      <td>Self-emp-not-inc</td>\n",
       "      <td>83311</td>\n",
       "      <td>Bachelors</td>\n",
       "      <td>13</td>\n",
       "      <td>Married-civ-spouse</td>\n",
       "      <td>Exec-managerial</td>\n",
       "      <td>Husband</td>\n",
       "      <td>White</td>\n",
       "      <td>Male</td>\n",
       "      <td>0</td>\n",
       "      <td>0</td>\n",
       "      <td>13</td>\n",
       "      <td>United-States</td>\n",
       "      <td>&lt;=50K</td>\n",
       "    </tr>\n",
       "    <tr>\n",
       "      <th>2</th>\n",
       "      <td>38</td>\n",
       "      <td>Private</td>\n",
       "      <td>215646</td>\n",
       "      <td>HS-grad</td>\n",
       "      <td>9</td>\n",
       "      <td>Divorced</td>\n",
       "      <td>Handlers-cleaners</td>\n",
       "      <td>Not-in-family</td>\n",
       "      <td>White</td>\n",
       "      <td>Male</td>\n",
       "      <td>0</td>\n",
       "      <td>0</td>\n",
       "      <td>40</td>\n",
       "      <td>United-States</td>\n",
       "      <td>&lt;=50K</td>\n",
       "    </tr>\n",
       "    <tr>\n",
       "      <th>3</th>\n",
       "      <td>53</td>\n",
       "      <td>Private</td>\n",
       "      <td>234721</td>\n",
       "      <td>11th</td>\n",
       "      <td>7</td>\n",
       "      <td>Married-civ-spouse</td>\n",
       "      <td>Handlers-cleaners</td>\n",
       "      <td>Husband</td>\n",
       "      <td>Black</td>\n",
       "      <td>Male</td>\n",
       "      <td>0</td>\n",
       "      <td>0</td>\n",
       "      <td>40</td>\n",
       "      <td>United-States</td>\n",
       "      <td>&lt;=50K</td>\n",
       "    </tr>\n",
       "    <tr>\n",
       "      <th>4</th>\n",
       "      <td>28</td>\n",
       "      <td>Private</td>\n",
       "      <td>338409</td>\n",
       "      <td>Bachelors</td>\n",
       "      <td>13</td>\n",
       "      <td>Married-civ-spouse</td>\n",
       "      <td>Prof-specialty</td>\n",
       "      <td>Wife</td>\n",
       "      <td>Black</td>\n",
       "      <td>Female</td>\n",
       "      <td>0</td>\n",
       "      <td>0</td>\n",
       "      <td>40</td>\n",
       "      <td>Cuba</td>\n",
       "      <td>&lt;=50K</td>\n",
       "    </tr>\n",
       "  </tbody>\n",
       "</table>\n",
       "</div>"
      ],
      "text/plain": [
       "   age          workclass  final_weight         edu  edu_num  \\\n",
       "0   39          State-gov         77516   Bachelors       13   \n",
       "1   50   Self-emp-not-inc         83311   Bachelors       13   \n",
       "2   38            Private        215646     HS-grad        9   \n",
       "3   53            Private        234721        11th        7   \n",
       "4   28            Private        338409   Bachelors       13   \n",
       "\n",
       "               marital          occupation    relationship    race      sex  \\\n",
       "0        Never-married        Adm-clerical   Not-in-family   White     Male   \n",
       "1   Married-civ-spouse     Exec-managerial         Husband   White     Male   \n",
       "2             Divorced   Handlers-cleaners   Not-in-family   White     Male   \n",
       "3   Married-civ-spouse   Handlers-cleaners         Husband   Black     Male   \n",
       "4   Married-civ-spouse      Prof-specialty            Wife   Black   Female   \n",
       "\n",
       "   capital_gain  capital_loss  hours_perweek         country  salary  \n",
       "0          2174             0             40   United-States   <=50K  \n",
       "1             0             0             13   United-States   <=50K  \n",
       "2             0             0             40   United-States   <=50K  \n",
       "3             0             0             40   United-States   <=50K  \n",
       "4             0             0             40            Cuba   <=50K  "
      ]
     },
     "execution_count": 3,
     "metadata": {},
     "output_type": "execute_result"
    }
   ],
   "source": [
    "import pandas as pd\n",
    "\n",
    "train_data = pd.read_csv('adult.csv',delimiter=',',names=['age', 'workclass','final_weight','edu','edu_num','marital','occupation','relationship','race','sex','capital_gain','capital_loss','hours_perweek','country','salary'])\n",
    "train_data.head()"
   ]
  },
  {
   "cell_type": "code",
   "execution_count": 4,
   "id": "cfc46b42-d901-4c59-b900-5e90eac7d69f",
   "metadata": {},
   "outputs": [],
   "source": [
    "num_cols = ['age','final_weight','edu_num','capital_gain','capital_loss','hours_perweek']\n",
    "cat_cols = ['workclass','edu','marital','occupation','relationship','race','sex','country','salary']"
   ]
  },
  {
   "cell_type": "code",
   "execution_count": 5,
   "id": "9abbfb63-aa1e-4513-8736-3de8b11931c1",
   "metadata": {},
   "outputs": [
    {
     "name": "stdout",
     "output_type": "stream",
     "text": [
      "<class 'pandas.core.frame.DataFrame'>\n",
      "RangeIndex: 32561 entries, 0 to 32560\n",
      "Data columns (total 15 columns):\n",
      " #   Column         Non-Null Count  Dtype \n",
      "---  ------         --------------  ----- \n",
      " 0   age            32561 non-null  int64 \n",
      " 1   workclass      32561 non-null  object\n",
      " 2   final_weight   32561 non-null  int64 \n",
      " 3   edu            32561 non-null  object\n",
      " 4   edu_num        32561 non-null  int64 \n",
      " 5   marital        32561 non-null  object\n",
      " 6   occupation     32561 non-null  object\n",
      " 7   relationship   32561 non-null  object\n",
      " 8   race           32561 non-null  object\n",
      " 9   sex            32561 non-null  object\n",
      " 10  capital_gain   32561 non-null  int64 \n",
      " 11  capital_loss   32561 non-null  int64 \n",
      " 12  hours_perweek  32561 non-null  int64 \n",
      " 13  country        32561 non-null  object\n",
      " 14  salary         32561 non-null  object\n",
      "dtypes: int64(6), object(9)\n",
      "memory usage: 3.7+ MB\n"
     ]
    }
   ],
   "source": [
    "train_data.info()"
   ]
  },
  {
   "cell_type": "markdown",
   "id": "bfdcbe33-c2f6-462f-809d-d151e1e5fc19",
   "metadata": {
    "tags": []
   },
   "source": [
    "### Data Plots"
   ]
  },
  {
   "cell_type": "code",
   "execution_count": 6,
   "id": "965b2df3-e44d-45a3-96e5-ee6fa570106c",
   "metadata": {},
   "outputs": [
    {
     "data": {
      "image/png": "[encoded data removed]",
      "text/plain": [
       "<Figure size 432x288 with 1 Axes>"
      ]
     },
     "metadata": {
      "needs_background": "light"
     },
     "output_type": "display_data"
    }
   ],
   "source": [
    "import matplotlib.pyplot as plt \n",
    "\n",
    "%matplotlib inline\n",
    "pd.crosstab(train_data.workclass,train_data.salary).plot(kind='bar')\n",
    "plt.title('workclass vs salary')\n",
    "plt.xlabel('workclass')\n",
    "plt.ylabel('salary')\n",
    "plt.savefig('imgs/wrkcls_sal.png')"
   ]
  },
  {
   "cell_type": "code",
   "execution_count": 7,
   "id": "1e272bd5-95eb-4c1b-8f84-941b8bea9aed",
   "metadata": {},
   "outputs": [
    {
     "data": {
      "image/png": "[encoded data removed]",
      "text/plain": [
       "<Figure size 432x288 with 1 Axes>"
      ]
     },
     "metadata": {
      "needs_background": "light"
     },
     "output_type": "display_data"
    }
   ],
   "source": [
    "pd.crosstab(train_data.edu,train_data.salary).plot(kind='bar')\n",
    "plt.title('education vs salary')\n",
    "plt.xlabel('education')\n",
    "plt.ylabel('salary')\n",
    "plt.savefig('imgs/edu_sal.png')"
   ]
  },
  {
   "cell_type": "code",
   "execution_count": 8,
   "id": "802668a6-1c67-41d4-9603-d666784f8e67",
   "metadata": {},
   "outputs": [
    {
     "data": {
      "image/png": "[encoded data removed]",
      "text/plain": [
       "<Figure size 432x288 with 1 Axes>"
      ]
     },
     "metadata": {
      "needs_background": "light"
     },
     "output_type": "display_data"
    }
   ],
   "source": [
    "pd.crosstab(train_data.marital,train_data.salary).plot(kind='bar')\n",
    "plt.title('marital-status vs salary')\n",
    "plt.xlabel('marital status')\n",
    "plt.ylabel('salary')\n",
    "plt.savefig('imgs/mrtlsts_sal.png')"
   ]
  },
  {
   "cell_type": "code",
   "execution_count": 9,
   "id": "14420941-3012-4745-8509-2aac6a201125",
   "metadata": {},
   "outputs": [
    {
     "data": {
      "image/png": "[encoded data removed]",
      "text/plain": [
       "<Figure size 432x288 with 1 Axes>"
      ]
     },
     "metadata": {
      "needs_background": "light"
     },
     "output_type": "display_data"
    }
   ],
   "source": [
    "pd.crosstab(train_data.occupation,train_data.salary).plot(kind='bar')\n",
    "plt.title('occupation vs salary')\n",
    "plt.xlabel('occupation')\n",
    "plt.ylabel('salary')\n",
    "plt.savefig('imgs/occ_sal.png')"
   ]
  },
  {
   "cell_type": "code",
   "execution_count": 10,
   "id": "4cffa848-980b-4118-ab3f-0826e1297f1c",
   "metadata": {},
   "outputs": [
    {
     "data": {
      "image/png": "[encoded data removed]",
      "text/plain": [
       "<Figure size 432x288 with 1 Axes>"
      ]
     },
     "metadata": {
      "needs_background": "light"
     },
     "output_type": "display_data"
    }
   ],
   "source": [
    "pd.crosstab(train_data.relationship,train_data.salary).plot(kind='bar')\n",
    "plt.title('relationship vs salary')\n",
    "plt.xlabel('relationship')\n",
    "plt.ylabel('salary')\n",
    "plt.savefig('imgs/rl_sal.png')"
   ]
  },
  {
   "cell_type": "code",
   "execution_count": 11,
   "id": "ee54268f-235f-48a1-b915-98f9a9d43b44",
   "metadata": {},
   "outputs": [
    {
     "data": {
      "image/png": "[encoded data removed]",
      "text/plain": [
       "<Figure size 432x288 with 1 Axes>"
      ]
     },
     "metadata": {
      "needs_background": "light"
     },
     "output_type": "display_data"
    }
   ],
   "source": [
    "pd.crosstab(train_data.race,train_data.salary).plot(kind='bar')\n",
    "plt.title('race vs salary')\n",
    "plt.xlabel('race')\n",
    "plt.ylabel('salary')\n",
    "plt.savefig('imgs/race_sal.png')"
   ]
  },
  {
   "cell_type": "code",
   "execution_count": 12,
   "id": "1a7c422c-c38d-4537-a339-bb07e70cc132",
   "metadata": {},
   "outputs": [
    {
     "data": {
      "image/png": "[encoded data removed]",
      "text/plain": [
       "<Figure size 432x288 with 1 Axes>"
      ]
     },
     "metadata": {
      "needs_background": "light"
     },
     "output_type": "display_data"
    }
   ],
   "source": [
    "pd.crosstab(train_data.sex,train_data.salary).plot(kind='bar')\n",
    "plt.title('sex vs salary')\n",
    "plt.xlabel('sex')\n",
    "plt.ylabel('salary')\n",
    "plt.savefig('imgs/sex_sal.png')"
   ]
  },
  {
   "cell_type": "code",
   "execution_count": 13,
   "id": "fe3e8e0e-2ede-4ac8-8820-fc0a6282fe06",
   "metadata": {},
   "outputs": [
    {
     "data": {
      "image/png": "[encoded data removed]",
      "text/plain": [
       "<Figure size 432x288 with 1 Axes>"
      ]
     },
     "metadata": {
      "needs_background": "light"
     },
     "output_type": "display_data"
    }
   ],
   "source": [
    "pd.crosstab(train_data.country,train_data.salary).plot(kind='bar')\n",
    "plt.title('country vs salary')\n",
    "plt.xlabel('country')\n",
    "plt.ylabel('salary')\n",
    "plt.savefig('imgs/country_sal.png')"
   ]
  },
  {
   "cell_type": "code",
   "execution_count": 14,
   "id": "3defc1f1-a9c6-4be1-a272-ce8c6f59afa8",
   "metadata": {},
   "outputs": [
    {
     "data": {
      "text/plain": [
       "<matplotlib.axes._subplots.AxesSubplot at 0x7f81b5a42be0>"
      ]
     },
     "execution_count": 14,
     "metadata": {},
     "output_type": "execute_result"
    },
    {
     "data": {
      "image/png": "[encoded data removed]",
      "text/plain": [
       "<Figure size 720x432 with 1 Axes>"
      ]
     },
     "metadata": {
      "needs_background": "light"
     },
     "output_type": "display_data"
    }
   ],
   "source": [
    "train_data['age'].plot(kind='hist', figsize=(10,6), title='Age of people',xlabel='Age')"
   ]
  },
  {
   "cell_type": "code",
   "execution_count": 15,
   "id": "d0c21beb-3d9e-48ee-8cdc-216dabb479d2",
   "metadata": {},
   "outputs": [
    {
     "data": {
      "image/png": "[encoded data removed]",
      "text/plain": [
       "<Figure size 432x288 with 1 Axes>"
      ]
     },
     "metadata": {
      "needs_background": "light"
     },
     "output_type": "display_data"
    }
   ],
   "source": [
    "bins = [0.0, 20.0, 30.0, 40.0, 50.0, 60.0, 70.0, 80.0,150.0]\n",
    "labels = ['<20','20-30', '30-40', '40-50', '50-60', '60-70', '70-80','>80']\n",
    "\n",
    "table=pd.crosstab(pd.cut(train_data['age'], bins=bins, labels=labels),train_data.salary)\n",
    "table.div(table.sum(1).astype(float), axis=0).plot(kind='bar', stacked=True)\n",
    "plt.title('Stacked Bar Chart of Age vs salary')\n",
    "plt.xlabel('Age')\n",
    "plt.ylabel('Proportion of salary <50k to >50k')\n",
    "plt.savefig('imgs/age.png')"
   ]
  },
  {
   "cell_type": "markdown",
   "id": "6c90416c-2d62-4056-94c8-163ac8af5ed7",
   "metadata": {
    "tags": []
   },
   "source": [
    "### Data pre-processing"
   ]
  },
  {
   "cell_type": "code",
   "execution_count": 16,
   "id": "57126b76-7fa7-49b8-8d28-09b09c7f6492",
   "metadata": {},
   "outputs": [
    {
     "data": {
      "text/html": [
       "<style  type=\"text/css\" >\n",
       "#T_d20eb786_5340_11ec_9ddb_dca266317233row0_col0,#T_d20eb786_5340_11ec_9ddb_dca266317233row1_col1,#T_d20eb786_5340_11ec_9ddb_dca266317233row2_col2,#T_d20eb786_5340_11ec_9ddb_dca266317233row3_col3,#T_d20eb786_5340_11ec_9ddb_dca266317233row4_col4,#T_d20eb786_5340_11ec_9ddb_dca266317233row5_col5{\n",
       "            background-color:  #b40426;\n",
       "            color:  #f1f1f1;\n",
       "        }#T_d20eb786_5340_11ec_9ddb_dca266317233row0_col1,#T_d20eb786_5340_11ec_9ddb_dca266317233row1_col0,#T_d20eb786_5340_11ec_9ddb_dca266317233row1_col2,#T_d20eb786_5340_11ec_9ddb_dca266317233row1_col5,#T_d20eb786_5340_11ec_9ddb_dca266317233row3_col4,#T_d20eb786_5340_11ec_9ddb_dca266317233row4_col3{\n",
       "            background-color:  #3b4cc0;\n",
       "            color:  #f1f1f1;\n",
       "        }#T_d20eb786_5340_11ec_9ddb_dca266317233row0_col2{\n",
       "            background-color:  #516ddb;\n",
       "            color:  #000000;\n",
       "        }#T_d20eb786_5340_11ec_9ddb_dca266317233row0_col3,#T_d20eb786_5340_11ec_9ddb_dca266317233row2_col4,#T_d20eb786_5340_11ec_9ddb_dca266317233row5_col3{\n",
       "            background-color:  #5b7ae5;\n",
       "            color:  #000000;\n",
       "        }#T_d20eb786_5340_11ec_9ddb_dca266317233row0_col4{\n",
       "            background-color:  #5572df;\n",
       "            color:  #000000;\n",
       "        }#T_d20eb786_5340_11ec_9ddb_dca266317233row0_col5,#T_d20eb786_5340_11ec_9ddb_dca266317233row5_col4{\n",
       "            background-color:  #5470de;\n",
       "            color:  #000000;\n",
       "        }#T_d20eb786_5340_11ec_9ddb_dca266317233row1_col3,#T_d20eb786_5340_11ec_9ddb_dca266317233row2_col1{\n",
       "            background-color:  #4358cb;\n",
       "            color:  #f1f1f1;\n",
       "        }#T_d20eb786_5340_11ec_9ddb_dca266317233row1_col4{\n",
       "            background-color:  #4055c8;\n",
       "            color:  #f1f1f1;\n",
       "        }#T_d20eb786_5340_11ec_9ddb_dca266317233row2_col0{\n",
       "            background-color:  #5a78e4;\n",
       "            color:  #000000;\n",
       "        }#T_d20eb786_5340_11ec_9ddb_dca266317233row2_col3{\n",
       "            background-color:  #6a8bef;\n",
       "            color:  #000000;\n",
       "        }#T_d20eb786_5340_11ec_9ddb_dca266317233row2_col5{\n",
       "            background-color:  #6e90f2;\n",
       "            color:  #000000;\n",
       "        }#T_d20eb786_5340_11ec_9ddb_dca266317233row3_col0{\n",
       "            background-color:  #6788ee;\n",
       "            color:  #000000;\n",
       "        }#T_d20eb786_5340_11ec_9ddb_dca266317233row3_col1,#T_d20eb786_5340_11ec_9ddb_dca266317233row4_col5{\n",
       "            background-color:  #506bda;\n",
       "            color:  #000000;\n",
       "        }#T_d20eb786_5340_11ec_9ddb_dca266317233row3_col2{\n",
       "            background-color:  #6c8ff1;\n",
       "            color:  #000000;\n",
       "        }#T_d20eb786_5340_11ec_9ddb_dca266317233row3_col5{\n",
       "            background-color:  #5875e1;\n",
       "            color:  #000000;\n",
       "        }#T_d20eb786_5340_11ec_9ddb_dca266317233row4_col0{\n",
       "            background-color:  #6180e9;\n",
       "            color:  #000000;\n",
       "        }#T_d20eb786_5340_11ec_9ddb_dca266317233row4_col1{\n",
       "            background-color:  #4c66d6;\n",
       "            color:  #000000;\n",
       "        }#T_d20eb786_5340_11ec_9ddb_dca266317233row4_col2{\n",
       "            background-color:  #5f7fe8;\n",
       "            color:  #000000;\n",
       "        }#T_d20eb786_5340_11ec_9ddb_dca266317233row5_col0{\n",
       "            background-color:  #6485ec;\n",
       "            color:  #000000;\n",
       "        }#T_d20eb786_5340_11ec_9ddb_dca266317233row5_col1{\n",
       "            background-color:  #4a63d3;\n",
       "            color:  #f1f1f1;\n",
       "        }#T_d20eb786_5340_11ec_9ddb_dca266317233row5_col2{\n",
       "            background-color:  #7597f6;\n",
       "            color:  #000000;\n",
       "        }</style><table id=\"T_d20eb786_5340_11ec_9ddb_dca266317233\" ><thead>    <tr>        <th class=\"blank level0\" ></th>        <th class=\"col_heading level0 col0\" >age</th>        <th class=\"col_heading level0 col1\" >final_weight</th>        <th class=\"col_heading level0 col2\" >edu_num</th>        <th class=\"col_heading level0 col3\" >capital_gain</th>        <th class=\"col_heading level0 col4\" >capital_loss</th>        <th class=\"col_heading level0 col5\" >hours_perweek</th>    </tr></thead><tbody>\n",
       "                <tr>\n",
       "                        <th id=\"T_d20eb786_5340_11ec_9ddb_dca266317233level0_row0\" class=\"row_heading level0 row0\" >age</th>\n",
       "                        <td id=\"T_d20eb786_5340_11ec_9ddb_dca266317233row0_col0\" class=\"data row0 col0\" >1.000000</td>\n",
       "                        <td id=\"T_d20eb786_5340_11ec_9ddb_dca266317233row0_col1\" class=\"data row0 col1\" >-0.076646</td>\n",
       "                        <td id=\"T_d20eb786_5340_11ec_9ddb_dca266317233row0_col2\" class=\"data row0 col2\" >0.036527</td>\n",
       "                        <td id=\"T_d20eb786_5340_11ec_9ddb_dca266317233row0_col3\" class=\"data row0 col3\" >0.077674</td>\n",
       "                        <td id=\"T_d20eb786_5340_11ec_9ddb_dca266317233row0_col4\" class=\"data row0 col4\" >0.057775</td>\n",
       "                        <td id=\"T_d20eb786_5340_11ec_9ddb_dca266317233row0_col5\" class=\"data row0 col5\" >0.068756</td>\n",
       "            </tr>\n",
       "            <tr>\n",
       "                        <th id=\"T_d20eb786_5340_11ec_9ddb_dca266317233level0_row1\" class=\"row_heading level0 row1\" >final_weight</th>\n",
       "                        <td id=\"T_d20eb786_5340_11ec_9ddb_dca266317233row1_col0\" class=\"data row1 col0\" >-0.076646</td>\n",
       "                        <td id=\"T_d20eb786_5340_11ec_9ddb_dca266317233row1_col1\" class=\"data row1 col1\" >1.000000</td>\n",
       "                        <td id=\"T_d20eb786_5340_11ec_9ddb_dca266317233row1_col2\" class=\"data row1 col2\" >-0.043195</td>\n",
       "                        <td id=\"T_d20eb786_5340_11ec_9ddb_dca266317233row1_col3\" class=\"data row1 col3\" >0.000432</td>\n",
       "                        <td id=\"T_d20eb786_5340_11ec_9ddb_dca266317233row1_col4\" class=\"data row1 col4\" >-0.010252</td>\n",
       "                        <td id=\"T_d20eb786_5340_11ec_9ddb_dca266317233row1_col5\" class=\"data row1 col5\" >-0.018768</td>\n",
       "            </tr>\n",
       "            <tr>\n",
       "                        <th id=\"T_d20eb786_5340_11ec_9ddb_dca266317233level0_row2\" class=\"row_heading level0 row2\" >edu_num</th>\n",
       "                        <td id=\"T_d20eb786_5340_11ec_9ddb_dca266317233row2_col0\" class=\"data row2 col0\" >0.036527</td>\n",
       "                        <td id=\"T_d20eb786_5340_11ec_9ddb_dca266317233row2_col1\" class=\"data row2 col1\" >-0.043195</td>\n",
       "                        <td id=\"T_d20eb786_5340_11ec_9ddb_dca266317233row2_col2\" class=\"data row2 col2\" >1.000000</td>\n",
       "                        <td id=\"T_d20eb786_5340_11ec_9ddb_dca266317233row2_col3\" class=\"data row2 col3\" >0.122630</td>\n",
       "                        <td id=\"T_d20eb786_5340_11ec_9ddb_dca266317233row2_col4\" class=\"data row2 col4\" >0.079923</td>\n",
       "                        <td id=\"T_d20eb786_5340_11ec_9ddb_dca266317233row2_col5\" class=\"data row2 col5\" >0.148123</td>\n",
       "            </tr>\n",
       "            <tr>\n",
       "                        <th id=\"T_d20eb786_5340_11ec_9ddb_dca266317233level0_row3\" class=\"row_heading level0 row3\" >capital_gain</th>\n",
       "                        <td id=\"T_d20eb786_5340_11ec_9ddb_dca266317233row3_col0\" class=\"data row3 col0\" >0.077674</td>\n",
       "                        <td id=\"T_d20eb786_5340_11ec_9ddb_dca266317233row3_col1\" class=\"data row3 col1\" >0.000432</td>\n",
       "                        <td id=\"T_d20eb786_5340_11ec_9ddb_dca266317233row3_col2\" class=\"data row3 col2\" >0.122630</td>\n",
       "                        <td id=\"T_d20eb786_5340_11ec_9ddb_dca266317233row3_col3\" class=\"data row3 col3\" >1.000000</td>\n",
       "                        <td id=\"T_d20eb786_5340_11ec_9ddb_dca266317233row3_col4\" class=\"data row3 col4\" >-0.031615</td>\n",
       "                        <td id=\"T_d20eb786_5340_11ec_9ddb_dca266317233row3_col5\" class=\"data row3 col5\" >0.078409</td>\n",
       "            </tr>\n",
       "            <tr>\n",
       "                        <th id=\"T_d20eb786_5340_11ec_9ddb_dca266317233level0_row4\" class=\"row_heading level0 row4\" >capital_loss</th>\n",
       "                        <td id=\"T_d20eb786_5340_11ec_9ddb_dca266317233row4_col0\" class=\"data row4 col0\" >0.057775</td>\n",
       "                        <td id=\"T_d20eb786_5340_11ec_9ddb_dca266317233row4_col1\" class=\"data row4 col1\" >-0.010252</td>\n",
       "                        <td id=\"T_d20eb786_5340_11ec_9ddb_dca266317233row4_col2\" class=\"data row4 col2\" >0.079923</td>\n",
       "                        <td id=\"T_d20eb786_5340_11ec_9ddb_dca266317233row4_col3\" class=\"data row4 col3\" >-0.031615</td>\n",
       "                        <td id=\"T_d20eb786_5340_11ec_9ddb_dca266317233row4_col4\" class=\"data row4 col4\" >1.000000</td>\n",
       "                        <td id=\"T_d20eb786_5340_11ec_9ddb_dca266317233row4_col5\" class=\"data row4 col5\" >0.054256</td>\n",
       "            </tr>\n",
       "            <tr>\n",
       "                        <th id=\"T_d20eb786_5340_11ec_9ddb_dca266317233level0_row5\" class=\"row_heading level0 row5\" >hours_perweek</th>\n",
       "                        <td id=\"T_d20eb786_5340_11ec_9ddb_dca266317233row5_col0\" class=\"data row5 col0\" >0.068756</td>\n",
       "                        <td id=\"T_d20eb786_5340_11ec_9ddb_dca266317233row5_col1\" class=\"data row5 col1\" >-0.018768</td>\n",
       "                        <td id=\"T_d20eb786_5340_11ec_9ddb_dca266317233row5_col2\" class=\"data row5 col2\" >0.148123</td>\n",
       "                        <td id=\"T_d20eb786_5340_11ec_9ddb_dca266317233row5_col3\" class=\"data row5 col3\" >0.078409</td>\n",
       "                        <td id=\"T_d20eb786_5340_11ec_9ddb_dca266317233row5_col4\" class=\"data row5 col4\" >0.054256</td>\n",
       "                        <td id=\"T_d20eb786_5340_11ec_9ddb_dca266317233row5_col5\" class=\"data row5 col5\" >1.000000</td>\n",
       "            </tr>\n",
       "    </tbody></table>"
      ],
      "text/plain": [
       "<pandas.io.formats.style.Styler at 0x7f81b5acc278>"
      ]
     },
     "execution_count": 16,
     "metadata": {},
     "output_type": "execute_result"
    }
   ],
   "source": [
    "# checking correlation between numerical columns\n",
    "corr = train_data[num_cols].corr()\n",
    "corr.style.background_gradient(cmap='coolwarm',)"
   ]
  },
  {
   "cell_type": "code",
   "execution_count": 17,
   "id": "c50110ef-ae4b-4a77-a082-4abaee19ae7d",
   "metadata": {},
   "outputs": [
    {
     "name": "stdout",
     "output_type": "stream",
     "text": [
      "workclass - edu p-value = 0.0\n",
      "workclass - marital p-value = 1.531121642660398e-264\n",
      "workclass - occupation p-value = 0.0\n",
      "workclass - relationship p-value = 3.445700331287451e-307\n",
      "workclass - race p-value = 1.1256884540047491e-67\n",
      "workclass - sex p-value = 1.0286039850311005e-160\n",
      "workclass - country p-value = 3.6510642780637936e-13\n",
      "workclass - salary p-value = 2.026505431120716e-220\n",
      "edu - marital p-value = 1.1706731158022685e-282\n",
      "edu - occupation p-value = 0.0\n",
      "edu - relationship p-value = 0.0\n",
      "edu - race p-value = 5.547319569858433e-116\n",
      "edu - sex p-value = 1.667778440920507e-54\n",
      "edu - country p-value = 0.0\n",
      "edu - salary p-value = 0.0\n",
      "marital - occupation p-value = 0.0\n",
      "marital - relationship p-value = 0.0\n",
      "marital - race p-value = 1.3087338193819433e-179\n",
      "marital - sex p-value = 0.0\n",
      "marital - country p-value = 1.325642820456137e-98\n",
      "marital - salary p-value = 0.0\n",
      "occupation - relationship p-value = 0.0\n",
      "occupation - race p-value = 1.6090405792152354e-142\n",
      "occupation - sex p-value = 0.0\n",
      "occupation - country p-value = 3.056006193732551e-227\n",
      "occupation - salary p-value = 0.0\n",
      "relationship - race p-value = 2.825570052626311e-253\n",
      "relationship - sex p-value = 0.0\n",
      "relationship - country p-value = 1.7228064998719162e-137\n",
      "relationship - salary p-value = 0.0\n",
      "race - sex p-value = 5.192061302760456e-97\n",
      "race - country p-value = 0.0\n",
      "race - salary p-value = 2.305960610160958e-70\n",
      "sex - country p-value = 7.950883043096852e-14\n",
      "sex - salary p-value = 0.0\n",
      "country - salary p-value = 2.2113858852543023e-44\n"
     ]
    }
   ],
   "source": [
    "from scipy.stats import chi2_contingency#Testing the relationship\n",
    "\n",
    "#chi_res = chi2_contingency(pd.crosstab(loan['Loan_Status'], loan['Gender']))\n",
    "#print('Chi2 Statistic: {}, p-value: {}'.format(chi_res[0], chi_res[1]))\n",
    "\n",
    "import itertools\n",
    "comb = itertools.combinations(cat_cols, 2)\n",
    "comb = list(comb)\n",
    "for i in comb:\n",
    "    chi_res = chi2_contingency(pd.crosstab(train_data[i[0]].astype('object',copy=True,errors='ignore'),train_data[i[1]].astype('object',copy=True,errors='ignore')))\n",
    "    print(i[0]+' - '+i[1]+' p-value = '+str(chi_res[1]))"
   ]
  },
  {
   "cell_type": "code",
   "execution_count": 18,
   "id": "27c67f78-c27f-4aa1-a9f5-02309498c399",
   "metadata": {},
   "outputs": [
    {
     "data": {
      "text/plain": [
       "31042"
      ]
     },
     "execution_count": 18,
     "metadata": {},
     "output_type": "execute_result"
    }
   ],
   "source": [
    "(train_data.capital_loss == 0).sum()"
   ]
  },
  {
   "cell_type": "code",
   "execution_count": 19,
   "id": "fb04fa0d-35e1-4376-8a47-1b92c305e855",
   "metadata": {},
   "outputs": [
    {
     "data": {
      "text/plain": [
       "29849"
      ]
     },
     "execution_count": 19,
     "metadata": {},
     "output_type": "execute_result"
    }
   ],
   "source": [
    "(train_data.capital_gain == 0).sum()"
   ]
  },
  {
   "cell_type": "markdown",
   "id": "5fda3c40-f64c-45e8-8066-a93bc0993494",
   "metadata": {},
   "source": [
    "most values 0 this feature can be eliminated"
   ]
  },
  {
   "cell_type": "markdown",
   "id": "91bb52a7-cd23-42fb-b626-b7ef5395de7a",
   "metadata": {},
   "source": [
    "### Pre-processing pipeline"
   ]
  },
  {
   "cell_type": "code",
   "execution_count": 44,
   "id": "0e89ab75-7b15-4fbb-93ac-76a257781fb5",
   "metadata": {},
   "outputs": [],
   "source": [
    "# preprocessing\n",
    "from sklearn.impute import SimpleImputer\n",
    "import numpy as np\n",
    "from sklearn.preprocessing import LabelEncoder\n",
    "\n",
    "def preprocessing(data,drop_cols,numeric_cols,categorical_cols):\n",
    "    # drop unwanted columns\n",
    "    df = data.copy()\n",
    "    df = df.drop(drop_cols,axis=1)\n",
    "    \n",
    "    # Impute missing values\n",
    "    for col in numeric_cols:\n",
    "        df[col] = pd.to_numeric(df[col],errors='coerce')\n",
    "    for col in categorical_cols:\n",
    "        df[col] = df[col].astype('object',copy=True,errors='ignore')\n",
    "    \n",
    "    imputer_num = SimpleImputer(strategy ='mean')\n",
    "    imputer_cat = SimpleImputer(strategy='most_frequent')\n",
    "\n",
    "    imputer_num = imputer_num.fit(df[numeric_cols])\n",
    "    imputer_cat = imputer_cat.fit(df[categorical_cols]) \n",
    "\n",
    "    df[numeric_cols] = imputer_num.transform(df[numeric_cols])\n",
    "    df[categorical_cols] = imputer_cat.transform(df[categorical_cols])\n",
    "    \n",
    "    # label categorical columns\n",
    "    labelencoder = LabelEncoder()\n",
    "    for col in categorical_cols:\n",
    "        df[col] = labelencoder.fit_transform(df[col])\n",
    "        \n",
    "    return df"
   ]
  },
  {
   "cell_type": "code",
   "execution_count": 45,
   "id": "f710420b-dfe7-4f98-8814-41a303a4bcb7",
   "metadata": {},
   "outputs": [],
   "source": [
    "num_cols = ['age','edu_num','final_weight','hours_perweek']\n",
    "cat_cols = ['workclass','edu','marital','occupation','relationship','race','sex','salary']\n",
    "\n",
    "data = preprocessing(train_data,['capital_loss','capital_gain','country'],num_cols,cat_cols)"
   ]
  },
  {
   "cell_type": "code",
   "execution_count": 46,
   "id": "ea123dae-204f-4840-ae26-231bd0841d0f",
   "metadata": {},
   "outputs": [
    {
     "name": "stdout",
     "output_type": "stream",
     "text": [
      "<class 'pandas.core.frame.DataFrame'>\n",
      "RangeIndex: 32561 entries, 0 to 32560\n",
      "Data columns (total 12 columns):\n",
      " #   Column         Non-Null Count  Dtype  \n",
      "---  ------         --------------  -----  \n",
      " 0   age            32561 non-null  float64\n",
      " 1   workclass      32561 non-null  int64  \n",
      " 2   final_weight   32561 non-null  float64\n",
      " 3   edu            32561 non-null  int64  \n",
      " 4   edu_num        32561 non-null  float64\n",
      " 5   marital        32561 non-null  int64  \n",
      " 6   occupation     32561 non-null  int64  \n",
      " 7   relationship   32561 non-null  int64  \n",
      " 8   race           32561 non-null  int64  \n",
      " 9   sex            32561 non-null  int64  \n",
      " 10  hours_perweek  32561 non-null  float64\n",
      " 11  salary         32561 non-null  int64  \n",
      "dtypes: float64(4), int64(8)\n",
      "memory usage: 3.0 MB\n"
     ]
    }
   ],
   "source": [
    "data.info()"
   ]
  },
  {
   "cell_type": "code",
   "execution_count": 47,
   "id": "23456cf8-a1ec-4360-b57e-f5533a596f08",
   "metadata": {},
   "outputs": [
    {
     "data": {
      "text/html": [
       "<div>\n",
       "<style scoped>\n",
       "    .dataframe tbody tr th:only-of-type {\n",
       "        vertical-align: middle;\n",
       "    }\n",
       "\n",
       "    .dataframe tbody tr th {\n",
       "        vertical-align: top;\n",
       "    }\n",
       "\n",
       "    .dataframe thead th {\n",
       "        text-align: right;\n",
       "    }\n",
       "</style>\n",
       "<table border=\"1\" class=\"dataframe\">\n",
       "  <thead>\n",
       "    <tr style=\"text-align: right;\">\n",
       "      <th></th>\n",
       "      <th>age</th>\n",
       "      <th>workclass</th>\n",
       "      <th>final_weight</th>\n",
       "      <th>edu</th>\n",
       "      <th>edu_num</th>\n",
       "      <th>marital</th>\n",
       "      <th>occupation</th>\n",
       "      <th>relationship</th>\n",
       "      <th>race</th>\n",
       "      <th>sex</th>\n",
       "      <th>hours_perweek</th>\n",
       "      <th>salary</th>\n",
       "    </tr>\n",
       "  </thead>\n",
       "  <tbody>\n",
       "    <tr>\n",
       "      <th>0</th>\n",
       "      <td>39.0</td>\n",
       "      <td>7</td>\n",
       "      <td>77516.0</td>\n",
       "      <td>9</td>\n",
       "      <td>13.0</td>\n",
       "      <td>4</td>\n",
       "      <td>1</td>\n",
       "      <td>1</td>\n",
       "      <td>4</td>\n",
       "      <td>1</td>\n",
       "      <td>40.0</td>\n",
       "      <td>0</td>\n",
       "    </tr>\n",
       "    <tr>\n",
       "      <th>1</th>\n",
       "      <td>50.0</td>\n",
       "      <td>6</td>\n",
       "      <td>83311.0</td>\n",
       "      <td>9</td>\n",
       "      <td>13.0</td>\n",
       "      <td>2</td>\n",
       "      <td>4</td>\n",
       "      <td>0</td>\n",
       "      <td>4</td>\n",
       "      <td>1</td>\n",
       "      <td>13.0</td>\n",
       "      <td>0</td>\n",
       "    </tr>\n",
       "    <tr>\n",
       "      <th>2</th>\n",
       "      <td>38.0</td>\n",
       "      <td>4</td>\n",
       "      <td>215646.0</td>\n",
       "      <td>11</td>\n",
       "      <td>9.0</td>\n",
       "      <td>0</td>\n",
       "      <td>6</td>\n",
       "      <td>1</td>\n",
       "      <td>4</td>\n",
       "      <td>1</td>\n",
       "      <td>40.0</td>\n",
       "      <td>0</td>\n",
       "    </tr>\n",
       "    <tr>\n",
       "      <th>3</th>\n",
       "      <td>53.0</td>\n",
       "      <td>4</td>\n",
       "      <td>234721.0</td>\n",
       "      <td>1</td>\n",
       "      <td>7.0</td>\n",
       "      <td>2</td>\n",
       "      <td>6</td>\n",
       "      <td>0</td>\n",
       "      <td>2</td>\n",
       "      <td>1</td>\n",
       "      <td>40.0</td>\n",
       "      <td>0</td>\n",
       "    </tr>\n",
       "    <tr>\n",
       "      <th>4</th>\n",
       "      <td>28.0</td>\n",
       "      <td>4</td>\n",
       "      <td>338409.0</td>\n",
       "      <td>9</td>\n",
       "      <td>13.0</td>\n",
       "      <td>2</td>\n",
       "      <td>10</td>\n",
       "      <td>5</td>\n",
       "      <td>2</td>\n",
       "      <td>0</td>\n",
       "      <td>40.0</td>\n",
       "      <td>0</td>\n",
       "    </tr>\n",
       "  </tbody>\n",
       "</table>\n",
       "</div>"
      ],
      "text/plain": [
       "    age  workclass  final_weight  edu  edu_num  marital  occupation  \\\n",
       "0  39.0          7       77516.0    9     13.0        4           1   \n",
       "1  50.0          6       83311.0    9     13.0        2           4   \n",
       "2  38.0          4      215646.0   11      9.0        0           6   \n",
       "3  53.0          4      234721.0    1      7.0        2           6   \n",
       "4  28.0          4      338409.0    9     13.0        2          10   \n",
       "\n",
       "   relationship  race  sex  hours_perweek  salary  \n",
       "0             1     4    1           40.0       0  \n",
       "1             0     4    1           13.0       0  \n",
       "2             1     4    1           40.0       0  \n",
       "3             0     2    1           40.0       0  \n",
       "4             5     2    0           40.0       0  "
      ]
     },
     "execution_count": 47,
     "metadata": {},
     "output_type": "execute_result"
    }
   ],
   "source": [
    "data.head()"
   ]
  },
  {
   "cell_type": "markdown",
   "id": "fa2afb55-ffb7-4e4f-8640-05cd350823d8",
   "metadata": {},
   "source": [
    "### Naive Bayes Regression Model"
   ]
  },
  {
   "cell_type": "code",
   "execution_count": 48,
   "id": "0e4757ea-3377-4704-bfc1-934859ffb057",
   "metadata": {},
   "outputs": [],
   "source": [
    "# train test split\n",
    "from sklearn.model_selection import train_test_split\n",
    "\n",
    "X = data.drop('salary',axis=1)\n",
    "y = data['salary']\n",
    "X_train,X_test,y_train,y_test = train_test_split(X,y,test_size=0.35,random_state=143,stratify = y)"
   ]
  },
  {
   "cell_type": "code",
   "execution_count": 49,
   "id": "06a92e94-e2aa-44a4-80f3-27774d44cc50",
   "metadata": {},
   "outputs": [],
   "source": [
    "from sklearn.naive_bayes import GaussianNB\n",
    "\n",
    "clf = GaussianNB().fit(X_train, y_train)"
   ]
  },
  {
   "cell_type": "code",
   "execution_count": 50,
   "id": "8d817298-4b9d-49eb-bfcb-7acd91ba255a",
   "metadata": {},
   "outputs": [
    {
     "name": "stdout",
     "output_type": "stream",
     "text": [
      "0.7927612927612928\n"
     ]
    }
   ],
   "source": [
    "print (clf.score(X_train, y_train))"
   ]
  },
  {
   "cell_type": "code",
   "execution_count": 51,
   "id": "0a1efd4a-bb6c-4d20-a0a5-eef17231079d",
   "metadata": {},
   "outputs": [
    {
     "name": "stdout",
     "output_type": "stream",
     "text": [
      "Accuracy of logistic regression classifier on test set: 0.80\n"
     ]
    }
   ],
   "source": [
    "y_pred = clf.predict(X_test)\n",
    "print('Accuracy of logistic regression classifier on test set: {:.2f}'.format(clf.score(X_test, y_test)))"
   ]
  },
  {
   "cell_type": "code",
   "execution_count": 53,
   "id": "e36727c3-4bfd-476e-9d16-8c4c00e888a5",
   "metadata": {},
   "outputs": [
    {
     "name": "stdout",
     "output_type": "stream",
     "text": [
      "CategoricalNB\n",
      "==============================\n",
      "Misclassified samples: 2318\n",
      "Accuracy: 0.80\n"
     ]
    }
   ],
   "source": [
    "from sklearn.metrics import accuracy_score\n",
    "\n",
    "y_pred_cnb = clf.predict(X_test)\n",
    "y_prob_pred_cnb = clf.predict_proba(X_test)\n",
    "# how did our model perform?\n",
    "count_misclassified = (y_test != y_pred_cnb).sum()\n",
    "\n",
    "print(\"CategoricalNB\")\n",
    "print(\"=\" * 30)\n",
    "print('Misclassified samples: {}'.format(count_misclassified))\n",
    "accuracy = accuracy_score(y_test, y_pred_cnb)\n",
    "print('Accuracy: {:.2f}'.format(accuracy))"
   ]
  },
  {
   "cell_type": "code",
   "execution_count": 54,
   "id": "96149171-abe3-4c9f-ad87-d22989172a6e",
   "metadata": {},
   "outputs": [
    {
     "name": "stdout",
     "output_type": "stream",
     "text": [
      "              precision    recall  f1-score   support\n",
      "\n",
      "           0       0.82      0.95      0.88      8652\n",
      "           1       0.66      0.33      0.44      2745\n",
      "\n",
      "    accuracy                           0.80     11397\n",
      "   macro avg       0.74      0.64      0.66     11397\n",
      "weighted avg       0.78      0.80      0.77     11397\n",
      "\n"
     ]
    }
   ],
   "source": [
    "from sklearn.metrics import classification_report\n",
    "\n",
    "print(classification_report(y_test, y_pred))"
   ]
  },
  {
   "cell_type": "code",
   "execution_count": 55,
   "id": "7e990e45-f72c-4a49-9c7d-2481d324deff",
   "metadata": {},
   "outputs": [
    {
     "data": {
      "text/plain": [
       "<sklearn.metrics._plot.confusion_matrix.ConfusionMatrixDisplay at 0x7f81b5a8f048>"
      ]
     },
     "execution_count": 55,
     "metadata": {},
     "output_type": "execute_result"
    },
    {
     "data": {
      "image/png": "[encoded data removed]",
      "text/plain": [
       "<Figure size 432x288 with 2 Axes>"
      ]
     },
     "metadata": {
      "needs_background": "light"
     },
     "output_type": "display_data"
    }
   ],
   "source": [
    "from sklearn.metrics import plot_confusion_matrix\n",
    "\n",
    "plot_confusion_matrix(clf, X_test, y_test)  "
   ]
  },
  {
   "cell_type": "code",
   "execution_count": 56,
   "id": "034bfec5-41cd-4a42-bb5d-d54c13faccbf",
   "metadata": {},
   "outputs": [
    {
     "data": {
      "image/png": "[encoded data removed]",
      "text/plain": [
       "<Figure size 432x288 with 1 Axes>"
      ]
     },
     "metadata": {
      "needs_background": "light"
     },
     "output_type": "display_data"
    }
   ],
   "source": [
    "from sklearn.metrics import roc_auc_score\n",
    "from sklearn.metrics import roc_curve\n",
    "import matplotlib.pyplot as plt \n",
    "\n",
    "logit_roc_auc = roc_auc_score(y_test, clf.predict(X_test))\n",
    "fpr, tpr, thresholds = roc_curve(y_test, clf.predict_proba(X_test)[:,1])\n",
    "plt.figure()\n",
    "plt.plot(fpr, tpr, label='Logistic Regression (area = %0.2f)' % logit_roc_auc)\n",
    "plt.plot([0, 1], [0, 1],'r--')\n",
    "plt.xlim([0.0, 1.0])\n",
    "plt.ylim([0.0, 1.05])\n",
    "plt.xlabel('False Positive Rate')\n",
    "plt.ylabel('True Positive Rate')\n",
    "plt.title('Receiver operating characteristic')\n",
    "plt.legend(loc=\"lower right\")\n",
    "plt.savefig('Log_ROC')\n",
    "plt.show()"
   ]
  },
  {
   "cell_type": "markdown",
   "id": "55251e52-0ee1-428f-a1d7-6bf62aba2ef6",
   "metadata": {},
   "source": [
    "### Attempt 2"
   ]
  },
  {
   "cell_type": "code",
   "execution_count": 91,
   "id": "ab22d5f3-0d16-4ff7-9362-cf10c168a22d",
   "metadata": {},
   "outputs": [],
   "source": [
    "from sklearn.impute import SimpleImputer\n",
    "import numpy as np\n",
    "from sklearn.preprocessing import LabelEncoder\n",
    "\n",
    "def preprocessing(data,drop_cols,numeric_cols,categorical_cols):\n",
    "    # drop unwanted columns\n",
    "    df = data.copy()\n",
    "    df = df.drop(drop_cols,axis=1)\n",
    "    \n",
    "    # Impute missing values\n",
    "    for col in numeric_cols:\n",
    "        df[col] = pd.to_numeric(df[col],errors='coerce')\n",
    "    for col in categorical_cols:\n",
    "        df[col] = df[col].astype('object',copy=True,errors='ignore')\n",
    "    \n",
    "    imputer_num = SimpleImputer(strategy ='mean')\n",
    "    imputer_cat = SimpleImputer(strategy='most_frequent')\n",
    "\n",
    "    imputer_num = imputer_num.fit(df[numeric_cols])\n",
    "    imputer_cat = imputer_cat.fit(df[categorical_cols]) \n",
    "\n",
    "    df[numeric_cols] = imputer_num.transform(df[numeric_cols])\n",
    "    df[categorical_cols] = imputer_cat.transform(df[categorical_cols])\n",
    "    \n",
    "    # label categorical columns\n",
    "    labelencoder = LabelEncoder()\n",
    "    for col in categorical_cols:\n",
    "        df[col] = labelencoder.fit_transform(df[col])\n",
    "        \n",
    "    df1 = df[numeric_cols+['salary']]\n",
    "    df2 = df[categorical_cols]\n",
    "        \n",
    "    return [df1,df2]"
   ]
  },
  {
   "cell_type": "code",
   "execution_count": 92,
   "id": "5863cc2d-ed22-4d24-96d1-7a61da0c427e",
   "metadata": {},
   "outputs": [],
   "source": [
    "data1,data2 = preprocessing(train_data,['capital_loss','capital_gain','country'],num_cols,cat_cols)"
   ]
  },
  {
   "cell_type": "code",
   "execution_count": 93,
   "id": "42c4d4ef-1b08-463a-971c-a643fbd23f3a",
   "metadata": {},
   "outputs": [
    {
     "data": {
      "text/html": [
       "<div>\n",
       "<style scoped>\n",
       "    .dataframe tbody tr th:only-of-type {\n",
       "        vertical-align: middle;\n",
       "    }\n",
       "\n",
       "    .dataframe tbody tr th {\n",
       "        vertical-align: top;\n",
       "    }\n",
       "\n",
       "    .dataframe thead th {\n",
       "        text-align: right;\n",
       "    }\n",
       "</style>\n",
       "<table border=\"1\" class=\"dataframe\">\n",
       "  <thead>\n",
       "    <tr style=\"text-align: right;\">\n",
       "      <th></th>\n",
       "      <th>age</th>\n",
       "      <th>edu_num</th>\n",
       "      <th>final_weight</th>\n",
       "      <th>hours_perweek</th>\n",
       "      <th>salary</th>\n",
       "    </tr>\n",
       "  </thead>\n",
       "  <tbody>\n",
       "    <tr>\n",
       "      <th>0</th>\n",
       "      <td>39.0</td>\n",
       "      <td>13.0</td>\n",
       "      <td>77516.0</td>\n",
       "      <td>40.0</td>\n",
       "      <td>0</td>\n",
       "    </tr>\n",
       "    <tr>\n",
       "      <th>1</th>\n",
       "      <td>50.0</td>\n",
       "      <td>13.0</td>\n",
       "      <td>83311.0</td>\n",
       "      <td>13.0</td>\n",
       "      <td>0</td>\n",
       "    </tr>\n",
       "    <tr>\n",
       "      <th>2</th>\n",
       "      <td>38.0</td>\n",
       "      <td>9.0</td>\n",
       "      <td>215646.0</td>\n",
       "      <td>40.0</td>\n",
       "      <td>0</td>\n",
       "    </tr>\n",
       "    <tr>\n",
       "      <th>3</th>\n",
       "      <td>53.0</td>\n",
       "      <td>7.0</td>\n",
       "      <td>234721.0</td>\n",
       "      <td>40.0</td>\n",
       "      <td>0</td>\n",
       "    </tr>\n",
       "    <tr>\n",
       "      <th>4</th>\n",
       "      <td>28.0</td>\n",
       "      <td>13.0</td>\n",
       "      <td>338409.0</td>\n",
       "      <td>40.0</td>\n",
       "      <td>0</td>\n",
       "    </tr>\n",
       "  </tbody>\n",
       "</table>\n",
       "</div>"
      ],
      "text/plain": [
       "    age  edu_num  final_weight  hours_perweek  salary\n",
       "0  39.0     13.0       77516.0           40.0       0\n",
       "1  50.0     13.0       83311.0           13.0       0\n",
       "2  38.0      9.0      215646.0           40.0       0\n",
       "3  53.0      7.0      234721.0           40.0       0\n",
       "4  28.0     13.0      338409.0           40.0       0"
      ]
     },
     "execution_count": 93,
     "metadata": {},
     "output_type": "execute_result"
    }
   ],
   "source": [
    "data1.head()"
   ]
  },
  {
   "cell_type": "code",
   "execution_count": 94,
   "id": "ca52c36f-e8c9-4539-8b14-5eac513c3d0d",
   "metadata": {},
   "outputs": [
    {
     "data": {
      "text/html": [
       "<div>\n",
       "<style scoped>\n",
       "    .dataframe tbody tr th:only-of-type {\n",
       "        vertical-align: middle;\n",
       "    }\n",
       "\n",
       "    .dataframe tbody tr th {\n",
       "        vertical-align: top;\n",
       "    }\n",
       "\n",
       "    .dataframe thead th {\n",
       "        text-align: right;\n",
       "    }\n",
       "</style>\n",
       "<table border=\"1\" class=\"dataframe\">\n",
       "  <thead>\n",
       "    <tr style=\"text-align: right;\">\n",
       "      <th></th>\n",
       "      <th>workclass</th>\n",
       "      <th>edu</th>\n",
       "      <th>marital</th>\n",
       "      <th>occupation</th>\n",
       "      <th>relationship</th>\n",
       "      <th>race</th>\n",
       "      <th>sex</th>\n",
       "      <th>salary</th>\n",
       "    </tr>\n",
       "  </thead>\n",
       "  <tbody>\n",
       "    <tr>\n",
       "      <th>0</th>\n",
       "      <td>7</td>\n",
       "      <td>9</td>\n",
       "      <td>4</td>\n",
       "      <td>1</td>\n",
       "      <td>1</td>\n",
       "      <td>4</td>\n",
       "      <td>1</td>\n",
       "      <td>0</td>\n",
       "    </tr>\n",
       "    <tr>\n",
       "      <th>1</th>\n",
       "      <td>6</td>\n",
       "      <td>9</td>\n",
       "      <td>2</td>\n",
       "      <td>4</td>\n",
       "      <td>0</td>\n",
       "      <td>4</td>\n",
       "      <td>1</td>\n",
       "      <td>0</td>\n",
       "    </tr>\n",
       "    <tr>\n",
       "      <th>2</th>\n",
       "      <td>4</td>\n",
       "      <td>11</td>\n",
       "      <td>0</td>\n",
       "      <td>6</td>\n",
       "      <td>1</td>\n",
       "      <td>4</td>\n",
       "      <td>1</td>\n",
       "      <td>0</td>\n",
       "    </tr>\n",
       "    <tr>\n",
       "      <th>3</th>\n",
       "      <td>4</td>\n",
       "      <td>1</td>\n",
       "      <td>2</td>\n",
       "      <td>6</td>\n",
       "      <td>0</td>\n",
       "      <td>2</td>\n",
       "      <td>1</td>\n",
       "      <td>0</td>\n",
       "    </tr>\n",
       "    <tr>\n",
       "      <th>4</th>\n",
       "      <td>4</td>\n",
       "      <td>9</td>\n",
       "      <td>2</td>\n",
       "      <td>10</td>\n",
       "      <td>5</td>\n",
       "      <td>2</td>\n",
       "      <td>0</td>\n",
       "      <td>0</td>\n",
       "    </tr>\n",
       "  </tbody>\n",
       "</table>\n",
       "</div>"
      ],
      "text/plain": [
       "   workclass  edu  marital  occupation  relationship  race  sex  salary\n",
       "0          7    9        4           1             1     4    1       0\n",
       "1          6    9        2           4             0     4    1       0\n",
       "2          4   11        0           6             1     4    1       0\n",
       "3          4    1        2           6             0     2    1       0\n",
       "4          4    9        2          10             5     2    0       0"
      ]
     },
     "execution_count": 94,
     "metadata": {},
     "output_type": "execute_result"
    }
   ],
   "source": [
    "data2.head()"
   ]
  },
  {
   "cell_type": "markdown",
   "id": "e2622fd2-8aa8-4f63-9079-f144d9aa7206",
   "metadata": {},
   "source": [
    "#### model 1 continuous data"
   ]
  },
  {
   "cell_type": "code",
   "execution_count": 95,
   "id": "a5a17327-85ce-49d5-ae7f-aba8d94efe93",
   "metadata": {},
   "outputs": [],
   "source": [
    "X1 = data1.drop('salary',axis=1)\n",
    "y1 = data1['salary']"
   ]
  },
  {
   "cell_type": "code",
   "execution_count": 96,
   "id": "69227ba1-1c78-4d0f-82ea-2394a6852856",
   "metadata": {},
   "outputs": [],
   "source": [
    "from sklearn.naive_bayes import GaussianNB\n",
    "\n",
    "clf1 = GaussianNB().fit(X1, y1)"
   ]
  },
  {
   "cell_type": "code",
   "execution_count": 97,
   "id": "50bbb78b-8471-4a25-b8d5-f02e479853c8",
   "metadata": {},
   "outputs": [
    {
     "name": "stdout",
     "output_type": "stream",
     "text": [
      "0.7775252602807039\n"
     ]
    }
   ],
   "source": [
    "print (clf1.score(X1, y1))"
   ]
  },
  {
   "cell_type": "code",
   "execution_count": 104,
   "id": "60048c6a-1da4-41d2-a225-01cf4cc36b3d",
   "metadata": {},
   "outputs": [],
   "source": [
    "gaussian_probas = clf1.predict_proba(X1)"
   ]
  },
  {
   "cell_type": "markdown",
   "id": "3cb6997c-cf55-4da6-8072-36ec579479e1",
   "metadata": {},
   "source": [
    "#### model 2 categorical data"
   ]
  },
  {
   "cell_type": "code",
   "execution_count": 99,
   "id": "e8945419-c7f4-49f0-8109-cc5db9389909",
   "metadata": {},
   "outputs": [],
   "source": [
    "X2 = data2.drop('salary',axis=1)\n",
    "y2 = data2['salary']"
   ]
  },
  {
   "cell_type": "code",
   "execution_count": 101,
   "id": "d2568ef9-1b8a-4f18-addb-42d10ab58326",
   "metadata": {},
   "outputs": [],
   "source": [
    "from sklearn.naive_bayes import CategoricalNB\n",
    "\n",
    "clf2 = CategoricalNB().fit(X2, y2)"
   ]
  },
  {
   "cell_type": "code",
   "execution_count": 102,
   "id": "feeaba32-d8f9-410c-a1ed-eba76a78c539",
   "metadata": {},
   "outputs": [
    {
     "name": "stdout",
     "output_type": "stream",
     "text": [
      "0.7949694419704555\n"
     ]
    }
   ],
   "source": [
    "print (clf2.score(X2, y2))"
   ]
  },
  {
   "cell_type": "code",
   "execution_count": 105,
   "id": "8c3e1f23-5411-4279-bf84-137293619cf7",
   "metadata": {},
   "outputs": [],
   "source": [
    "categorical_probas = clf2.predict_proba(X2)"
   ]
  },
  {
   "cell_type": "code",
   "execution_count": 107,
   "id": "9dc51156-d50e-4a7a-b53c-30e309436f58",
   "metadata": {},
   "outputs": [],
   "source": [
    "data_new = np.hstack((categorical_probas, gaussian_probas))"
   ]
  },
  {
   "cell_type": "markdown",
   "id": "9d87a96e-82a7-49f2-b205-042dee4b6087",
   "metadata": {},
   "source": [
    "#### model merged"
   ]
  },
  {
   "cell_type": "code",
   "execution_count": 110,
   "id": "54c96e97-0e41-4ac2-86fd-428e9e842dd9",
   "metadata": {},
   "outputs": [],
   "source": [
    "data_final = pd.DataFrame(data_new)"
   ]
  },
  {
   "cell_type": "code",
   "execution_count": 111,
   "id": "77e53fdf-1903-4cae-9a8e-2f8bca530e3a",
   "metadata": {},
   "outputs": [],
   "source": [
    "data_final['salary'] = data['salary']"
   ]
  },
  {
   "cell_type": "code",
   "execution_count": 112,
   "id": "da1804ac-3e0a-470f-976f-4faa89db4897",
   "metadata": {},
   "outputs": [
    {
     "data": {
      "text/html": [
       "<div>\n",
       "<style scoped>\n",
       "    .dataframe tbody tr th:only-of-type {\n",
       "        vertical-align: middle;\n",
       "    }\n",
       "\n",
       "    .dataframe tbody tr th {\n",
       "        vertical-align: top;\n",
       "    }\n",
       "\n",
       "    .dataframe thead th {\n",
       "        text-align: right;\n",
       "    }\n",
       "</style>\n",
       "<table border=\"1\" class=\"dataframe\">\n",
       "  <thead>\n",
       "    <tr style=\"text-align: right;\">\n",
       "      <th></th>\n",
       "      <th>0</th>\n",
       "      <th>1</th>\n",
       "      <th>2</th>\n",
       "      <th>3</th>\n",
       "      <th>salary</th>\n",
       "    </tr>\n",
       "  </thead>\n",
       "  <tbody>\n",
       "    <tr>\n",
       "      <th>0</th>\n",
       "      <td>0.967207</td>\n",
       "      <td>0.032793</td>\n",
       "      <td>0.663740</td>\n",
       "      <td>0.336260</td>\n",
       "      <td>0</td>\n",
       "    </tr>\n",
       "    <tr>\n",
       "      <th>1</th>\n",
       "      <td>0.037347</td>\n",
       "      <td>0.962653</td>\n",
       "      <td>0.892275</td>\n",
       "      <td>0.107725</td>\n",
       "      <td>0</td>\n",
       "    </tr>\n",
       "    <tr>\n",
       "      <th>2</th>\n",
       "      <td>0.992914</td>\n",
       "      <td>0.007086</td>\n",
       "      <td>0.768324</td>\n",
       "      <td>0.231676</td>\n",
       "      <td>0</td>\n",
       "    </tr>\n",
       "    <tr>\n",
       "      <th>3</th>\n",
       "      <td>0.960154</td>\n",
       "      <td>0.039846</td>\n",
       "      <td>0.726035</td>\n",
       "      <td>0.273965</td>\n",
       "      <td>0</td>\n",
       "    </tr>\n",
       "    <tr>\n",
       "      <th>4</th>\n",
       "      <td>0.331821</td>\n",
       "      <td>0.668179</td>\n",
       "      <td>0.827339</td>\n",
       "      <td>0.172661</td>\n",
       "      <td>0</td>\n",
       "    </tr>\n",
       "    <tr>\n",
       "      <th>...</th>\n",
       "      <td>...</td>\n",
       "      <td>...</td>\n",
       "      <td>...</td>\n",
       "      <td>...</td>\n",
       "      <td>...</td>\n",
       "    </tr>\n",
       "    <tr>\n",
       "      <th>32556</th>\n",
       "      <td>0.448076</td>\n",
       "      <td>0.551924</td>\n",
       "      <td>0.857963</td>\n",
       "      <td>0.142037</td>\n",
       "      <td>0</td>\n",
       "    </tr>\n",
       "    <tr>\n",
       "      <th>32557</th>\n",
       "      <td>0.574785</td>\n",
       "      <td>0.425215</td>\n",
       "      <td>0.746485</td>\n",
       "      <td>0.253515</td>\n",
       "      <td>1</td>\n",
       "    </tr>\n",
       "    <tr>\n",
       "      <th>32558</th>\n",
       "      <td>0.997812</td>\n",
       "      <td>0.002188</td>\n",
       "      <td>0.673365</td>\n",
       "      <td>0.326635</td>\n",
       "      <td>0</td>\n",
       "    </tr>\n",
       "    <tr>\n",
       "      <th>32559</th>\n",
       "      <td>0.999198</td>\n",
       "      <td>0.000802</td>\n",
       "      <td>0.978019</td>\n",
       "      <td>0.021981</td>\n",
       "      <td>0</td>\n",
       "    </tr>\n",
       "    <tr>\n",
       "      <th>32560</th>\n",
       "      <td>0.128639</td>\n",
       "      <td>0.871361</td>\n",
       "      <td>0.685263</td>\n",
       "      <td>0.314737</td>\n",
       "      <td>1</td>\n",
       "    </tr>\n",
       "  </tbody>\n",
       "</table>\n",
       "<p>32561 rows × 5 columns</p>\n",
       "</div>"
      ],
      "text/plain": [
       "              0         1         2         3  salary\n",
       "0      0.967207  0.032793  0.663740  0.336260       0\n",
       "1      0.037347  0.962653  0.892275  0.107725       0\n",
       "2      0.992914  0.007086  0.768324  0.231676       0\n",
       "3      0.960154  0.039846  0.726035  0.273965       0\n",
       "4      0.331821  0.668179  0.827339  0.172661       0\n",
       "...         ...       ...       ...       ...     ...\n",
       "32556  0.448076  0.551924  0.857963  0.142037       0\n",
       "32557  0.574785  0.425215  0.746485  0.253515       1\n",
       "32558  0.997812  0.002188  0.673365  0.326635       0\n",
       "32559  0.999198  0.000802  0.978019  0.021981       0\n",
       "32560  0.128639  0.871361  0.685263  0.314737       1\n",
       "\n",
       "[32561 rows x 5 columns]"
      ]
     },
     "execution_count": 112,
     "metadata": {},
     "output_type": "execute_result"
    }
   ],
   "source": [
    "data_final "
   ]
  },
  {
   "cell_type": "code",
   "execution_count": 113,
   "id": "6683bea5-25ae-4e16-a1e9-a9583e9a269b",
   "metadata": {},
   "outputs": [],
   "source": [
    "# train test split\n",
    "from sklearn.model_selection import train_test_split\n",
    "\n",
    "Xf = data_final.drop('salary',axis=1)\n",
    "yf = data_final['salary']\n",
    "Xf_train,Xf_test,yf_train,yf_test = train_test_split(Xf,yf,test_size=0.35,random_state=143,stratify = yf)"
   ]
  },
  {
   "cell_type": "code",
   "execution_count": 114,
   "id": "c4e88e09-9eb9-4f60-bb3b-fc27c512a9c9",
   "metadata": {},
   "outputs": [],
   "source": [
    "from sklearn.naive_bayes import GaussianNB\n",
    "\n",
    "clff = GaussianNB().fit(Xf_train, yf_train)"
   ]
  },
  {
   "cell_type": "code",
   "execution_count": 115,
   "id": "6fa571bf-8fe8-4d5b-9c5c-cee6b6574cc0",
   "metadata": {},
   "outputs": [
    {
     "name": "stdout",
     "output_type": "stream",
     "text": [
      "0.8129370629370629\n"
     ]
    }
   ],
   "source": [
    "print (clff.score(Xf_train, yf_train))"
   ]
  },
  {
   "cell_type": "code",
   "execution_count": 116,
   "id": "a9fccd2a-b386-4b0b-bba7-fbe7b3aaf9c5",
   "metadata": {},
   "outputs": [
    {
     "name": "stdout",
     "output_type": "stream",
     "text": [
      "Accuracy of logistic regression classifier on test set: 0.82\n"
     ]
    }
   ],
   "source": [
    "yf_pred = clff.predict(Xf_test)\n",
    "print('Accuracy of logistic regression classifier on test set: {:.2f}'.format(clff.score(Xf_test, yf_test)))"
   ]
  },
  {
   "cell_type": "code",
   "execution_count": 117,
   "id": "5887d067-60f4-4faf-b883-2fbfec08e574",
   "metadata": {},
   "outputs": [
    {
     "name": "stdout",
     "output_type": "stream",
     "text": [
      "              precision    recall  f1-score   support\n",
      "\n",
      "           0       0.91      0.85      0.88      8652\n",
      "           1       0.60      0.73      0.66      2745\n",
      "\n",
      "    accuracy                           0.82     11397\n",
      "   macro avg       0.76      0.79      0.77     11397\n",
      "weighted avg       0.84      0.82      0.83     11397\n",
      "\n"
     ]
    }
   ],
   "source": [
    "from sklearn.metrics import classification_report\n",
    "\n",
    "print(classification_report(yf_test, yf_pred))"
   ]
  },
  {
   "cell_type": "code",
   "execution_count": 118,
   "id": "31fb4b2e-4473-47fe-940c-b2005bd29022",
   "metadata": {},
   "outputs": [
    {
     "data": {
      "text/plain": [
       "<sklearn.metrics._plot.confusion_matrix.ConfusionMatrixDisplay at 0x7f81b597edd8>"
      ]
     },
     "execution_count": 118,
     "metadata": {},
     "output_type": "execute_result"
    },
    {
     "data": {
      "image/png": "[encoded data removed]",
      "text/plain": [
       "<Figure size 432x288 with 2 Axes>"
      ]
     },
     "metadata": {
      "needs_background": "light"
     },
     "output_type": "display_data"
    }
   ],
   "source": [
    "from sklearn.metrics import plot_confusion_matrix\n",
    "\n",
    "plot_confusion_matrix(clff, Xf_test, yf_test) "
   ]
  },
  {
   "cell_type": "code",
   "execution_count": 119,
   "id": "5c46ae47-5666-4867-a791-b791a77dcf60",
   "metadata": {},
   "outputs": [
    {
     "data": {
      "image/png": "[encoded data removed]",
      "text/plain": [
       "<Figure size 432x288 with 1 Axes>"
      ]
     },
     "metadata": {
      "needs_background": "light"
     },
     "output_type": "display_data"
    }
   ],
   "source": [
    "from sklearn.metrics import roc_auc_score\n",
    "from sklearn.metrics import roc_curve\n",
    "import matplotlib.pyplot as plt \n",
    "\n",
    "logit_roc_auc = roc_auc_score(yf_test, clff.predict(Xf_test))\n",
    "fpr, tpr, thresholds = roc_curve(yf_test, clff.predict_proba(Xf_test)[:,1])\n",
    "plt.figure()\n",
    "plt.plot(fpr, tpr, label='Logistic Regression (area = %0.2f)' % logit_roc_auc)\n",
    "plt.plot([0, 1], [0, 1],'r--')\n",
    "plt.xlim([0.0, 1.0])\n",
    "plt.ylim([0.0, 1.05])\n",
    "plt.xlabel('False Positive Rate')\n",
    "plt.ylabel('True Positive Rate')\n",
    "plt.title('Receiver operating characteristic')\n",
    "plt.legend(loc=\"lower right\")\n",
    "plt.savefig('Log_ROC')\n",
    "plt.show()"
   ]
  },
  {
   "cell_type": "code",
   "execution_count": null,
   "id": "ae136dba-7ad8-4d89-9d47-cbc01ef6f164",
   "metadata": {},
   "outputs": [],
   "source": []
  }
 ],
 "metadata": {
  "kernelspec": {
   "display_name": "Python 3",
   "language": "python",
   "name": "python3"
  },
  "language_info": {
   "codemirror_mode": {
    "name": "ipython",
    "version": 3
   },
   "file_extension": ".py",
   "mimetype": "text/x-python",
   "name": "python",
   "nbconvert_exporter": "python",
   "pygments_lexer": "ipython3",
   "version": "3.6.9"
  }
 },
 "nbformat": 4,
 "nbformat_minor": 5
}
